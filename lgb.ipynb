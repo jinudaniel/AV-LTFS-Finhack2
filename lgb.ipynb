{
  "nbformat": 4,
  "nbformat_minor": 0,
  "metadata": {
    "colab": {
      "name": "lgb.ipynb",
      "provenance": [],
      "collapsed_sections": [],
      "toc_visible": true
    },
    "kernelspec": {
      "name": "python3",
      "display_name": "Python 3"
    }
  },
  "cells": [
    {
      "cell_type": "code",
      "metadata": {
        "id": "HIPZjr0hLKL_",
        "colab_type": "code",
        "outputId": "11874476-ab70-4211-cd09-b2f20c5f20ed",
        "colab": {
          "base_uri": "https://localhost:8080/",
          "height": 122
        }
      },
      "source": [
        "from google.colab import drive\n",
        "drive.mount('/content/drive')"
      ],
      "execution_count": 0,
      "outputs": [
        {
          "output_type": "stream",
          "text": [
            "Go to this URL in a browser: https://accounts.google.com/o/oauth2/auth?client_id=947318989803-6bn6qk8qdgf4n4g3pfee6491hc0brc4i.apps.googleusercontent.com&redirect_uri=urn%3aietf%3awg%3aoauth%3a2.0%3aoob&response_type=code&scope=email%20https%3a%2f%2fwww.googleapis.com%2fauth%2fdocs.test%20https%3a%2f%2fwww.googleapis.com%2fauth%2fdrive%20https%3a%2f%2fwww.googleapis.com%2fauth%2fdrive.photos.readonly%20https%3a%2f%2fwww.googleapis.com%2fauth%2fpeopleapi.readonly\n",
            "\n",
            "Enter your authorization code:\n",
            "··········\n",
            "Mounted at /content/drive\n"
          ],
          "name": "stdout"
        }
      ]
    },
    {
      "cell_type": "code",
      "metadata": {
        "id": "gK_tgmLGLL1r",
        "colab_type": "code",
        "colab": {}
      },
      "source": [
        "import pandas as pd\n",
        "import numpy as np\n",
        "import matplotlib.pyplot as plt\n",
        "import seaborn as sns\n",
        "from sklearn.model_selection import train_test_split\n",
        "import xgboost as xgb\n",
        "import lightgbm as lgb\n",
        "import holidays\n",
        "from datetime import date\n",
        "import re\n",
        "%matplotlib inline"
      ],
      "execution_count": 0,
      "outputs": []
    },
    {
      "cell_type": "code",
      "metadata": {
        "id": "-avpzKnPLVPf",
        "colab_type": "code",
        "colab": {}
      },
      "source": [
        "train = pd.read_csv('/content/drive/My Drive/AV LTFS Finhack2/train.csv', parse_dates=['application_date'])\n",
        "test = pd.read_csv('/content/drive/My Drive/AV LTFS Finhack2/test.csv', parse_dates=['application_date'])\n",
        "car = pd.read_csv('/content/drive/My Drive/AV LTFS Finhack2/CarSales.csv')"
      ],
      "execution_count": 0,
      "outputs": []
    },
    {
      "cell_type": "code",
      "metadata": {
        "id": "TxFIOsjdLvyh",
        "colab_type": "code",
        "outputId": "26aeefc8-40e6-4500-a348-fad6e072d114",
        "colab": {
          "base_uri": "https://localhost:8080/",
          "height": 34
        }
      },
      "source": [
        "train_sum = train.groupby(by=['application_date', 'segment'])['case_count'].sum().reset_index().rename(columns={\"case_count\": \"case_count_sum\"})\n",
        "train = train.merge(train_sum, on=['application_date', 'segment'], how='left')\n",
        "train.shape"
      ],
      "execution_count": 0,
      "outputs": [
        {
          "output_type": "execute_result",
          "data": {
            "text/plain": [
              "(80402, 7)"
            ]
          },
          "metadata": {
            "tags": []
          },
          "execution_count": 3
        }
      ]
    },
    {
      "cell_type": "code",
      "metadata": {
        "id": "M3hjVT2XMVro",
        "colab_type": "code",
        "colab": {}
      },
      "source": [
        "holidays = holidays.India(years=[2017, 2018, 2019])\n",
        "holidays.append('2017-03-28')\n",
        "holidays.append('2017-09-30')\n",
        "holidays.append('2017-10-19')\n",
        "holidays.append('2018-03-02')\n",
        "holidays.append('2018-03-18')\n",
        "holidays.append('2018-09-13')\n",
        "holidays.append('2018-10-19')\n",
        "holidays.append('2018-11-07')\n",
        "holidays.append('2019-03-21')\n",
        "holidays.append('2019-04-06')\n",
        "holidays.append('2019-09-02')\n",
        "holidays.append('2019-10-08')\n",
        "holidays.append('2019-10-27')"
      ],
      "execution_count": 0,
      "outputs": []
    },
    {
      "cell_type": "code",
      "metadata": {
        "id": "Omzw9xErMtSx",
        "colab_type": "code",
        "colab": {}
      },
      "source": [
        "train['is_holiday'] = train['application_date'].dt.date.isin(holidays)"
      ],
      "execution_count": 0,
      "outputs": []
    },
    {
      "cell_type": "code",
      "metadata": {
        "id": "SguTalDkM6_5",
        "colab_type": "code",
        "colab": {}
      },
      "source": [
        "def add_datepart(df, fldname, drop=True, time=False):\n",
        "    \"Helper function that adds columns relevant to a date.\"\n",
        "    fld = df[fldname]\n",
        "    fld_dtype = fld.dtype\n",
        "    if isinstance(fld_dtype, pd.core.dtypes.dtypes.DatetimeTZDtype):\n",
        "        fld_dtype = np.datetime64\n",
        "\n",
        "    if not np.issubdtype(fld_dtype, np.datetime64):\n",
        "        df[fldname] = fld = pd.to_datetime(fld, infer_datetime_format=True)\n",
        "    targ_pre = re.sub('[Dd]ate$', '', fldname)\n",
        "    attr = ['Year', 'Month', 'Week', 'Day', 'Dayofweek', 'Dayofyear',\n",
        "            'Is_month_end', 'Is_month_start', 'Is_quarter_end', 'Is_quarter_start', 'Is_year_end', 'Is_year_start']\n",
        "    if time: attr = attr + ['Hour']\n",
        "    for n in attr: df[targ_pre + n] = getattr(fld.dt, n.lower())\n",
        "    df[targ_pre + 'Elapsed'] = fld.astype(np.int64) // 10 ** 9\n",
        "    if drop: df.drop(fldname, axis=1, inplace=True)"
      ],
      "execution_count": 0,
      "outputs": []
    },
    {
      "cell_type": "code",
      "metadata": {
        "id": "UqgNTUHfHDK_",
        "colab_type": "code",
        "outputId": "00c3563c-ae3b-4389-f64e-d55d857f8b0c",
        "colab": {
          "base_uri": "https://localhost:8080/",
          "height": 34
        }
      },
      "source": [
        "train.drop_duplicates(['application_date', 'segment'], inplace=True)\n",
        "train.shape"
      ],
      "execution_count": 0,
      "outputs": [
        {
          "output_type": "execute_result",
          "data": {
            "text/plain": [
              "(1650, 8)"
            ]
          },
          "metadata": {
            "tags": []
          },
          "execution_count": 7
        }
      ]
    },
    {
      "cell_type": "code",
      "metadata": {
        "id": "df0YBKmbM-vA",
        "colab_type": "code",
        "colab": {}
      },
      "source": [
        "add_datepart(train, 'application_date')\n",
        "# add_datepart(train_2, 'application_date')"
      ],
      "execution_count": 0,
      "outputs": []
    },
    {
      "cell_type": "code",
      "metadata": {
        "id": "m0SgE5T6NDYg",
        "colab_type": "code",
        "colab": {}
      },
      "source": [
        "train['application_Is_month_end'] = train['application_Is_month_end'].astype(int)\n",
        "train['application_Is_month_start'] = train['application_Is_month_start'].astype(int)\n",
        "train['application_Is_quarter_end'] = train['application_Is_quarter_end'].astype(int)\n",
        "train['application_Is_quarter_start'] = train['application_Is_quarter_start'].astype(int)\n",
        "train['application_Is_year_end'] = train['application_Is_year_end'].astype(int)\n",
        "train['application_Is_year_start'] = train['application_Is_year_start'].astype(int)"
      ],
      "execution_count": 0,
      "outputs": []
    },
    {
      "cell_type": "code",
      "metadata": {
        "id": "KUPRZbThNXcA",
        "colab_type": "code",
        "colab": {}
      },
      "source": [
        "train.drop(['branch_id', 'state', 'zone'], axis=1, inplace=True)"
      ],
      "execution_count": 0,
      "outputs": []
    },
    {
      "cell_type": "code",
      "metadata": {
        "id": "-XaTfL7kNkYS",
        "colab_type": "code",
        "colab": {}
      },
      "source": [
        "train.drop(['case_count'], axis=1, inplace=True)\n",
        "train.rename(columns={'case_count_sum': 'case_count'}, inplace=True)"
      ],
      "execution_count": 0,
      "outputs": []
    },
    {
      "cell_type": "code",
      "metadata": {
        "id": "u54Rd6YiSQCX",
        "colab_type": "code",
        "colab": {}
      },
      "source": [
        "train['case_count'] = np.log1p(train['case_count'])"
      ],
      "execution_count": 0,
      "outputs": []
    },
    {
      "cell_type": "code",
      "metadata": {
        "id": "fMLKK9_2NgzK",
        "colab_type": "code",
        "colab": {}
      },
      "source": [
        "X_train, X_valid, y_train, y_valid = train_test_split(train.drop(['case_count'], axis=1), train['case_count'], \n",
        "                                                    test_size=0.2, random_state=423)"
      ],
      "execution_count": 0,
      "outputs": []
    },
    {
      "cell_type": "code",
      "metadata": {
        "id": "y3BgG0aOOSv5",
        "colab_type": "code",
        "colab": {}
      },
      "source": [
        "lightgbm_params = {\n",
        "    'boosting_type': 'gbdt',\n",
        "    'objective': 'regression',\n",
        "    'num_leaves': 50,\n",
        "    'metric': 'mape',\n",
        "    'max_depth': -1, \n",
        "    'learning_rate': 0.1\n",
        "}\n",
        "n_estimators = 3000"
      ],
      "execution_count": 0,
      "outputs": []
    },
    {
      "cell_type": "code",
      "metadata": {
        "id": "WCha9nQpOXFY",
        "colab_type": "code",
        "outputId": "ef346e39-23a0-4058-dcee-4338b1d28b0b",
        "colab": {
          "base_uri": "https://localhost:8080/",
          "height": 102
        }
      },
      "source": [
        "d_train = lgb.Dataset(X_train, label=y_train)\n",
        "d_valid = lgb.Dataset(X_valid, label=y_valid)\n",
        "watchlist = [d_valid]\n",
        "\n",
        "lightgbm_model = lgb.train(lightgbm_params, d_train, n_estimators, watchlist, verbose_eval=50, \n",
        "                           early_stopping_rounds=50)"
      ],
      "execution_count": 0,
      "outputs": [
        {
          "output_type": "stream",
          "text": [
            "Training until validation scores don't improve for 50 rounds.\n",
            "[50]\tvalid_0's mape: 0.040961\n",
            "[100]\tvalid_0's mape: 0.0417909\n",
            "Early stopping, best iteration is:\n",
            "[52]\tvalid_0's mape: 0.040888\n"
          ],
          "name": "stdout"
        }
      ]
    },
    {
      "cell_type": "code",
      "metadata": {
        "id": "A-8wHJvhO_P5",
        "colab_type": "code",
        "colab": {}
      },
      "source": [
        "test['is_holiday'] = test['application_date'].dt.date.isin(holidays)"
      ],
      "execution_count": 0,
      "outputs": []
    },
    {
      "cell_type": "code",
      "metadata": {
        "id": "Dk4jxIF2PISx",
        "colab_type": "code",
        "colab": {}
      },
      "source": [
        "add_datepart(test, 'application_date')"
      ],
      "execution_count": 0,
      "outputs": []
    },
    {
      "cell_type": "code",
      "metadata": {
        "id": "-rtIX6rhPU_R",
        "colab_type": "code",
        "colab": {}
      },
      "source": [
        "test['application_Is_month_end'] = test['application_Is_month_end'].astype(int)\n",
        "test['application_Is_month_start'] = test['application_Is_month_start'].astype(int)\n",
        "test['application_Is_quarter_end'] = test['application_Is_quarter_end'].astype(int)\n",
        "test['application_Is_quarter_start'] = test['application_Is_quarter_start'].astype(int)\n",
        "test['application_Is_year_end'] = test['application_Is_year_end'].astype(int)\n",
        "test['application_Is_year_start'] = test['application_Is_year_start'].astype(int)"
      ],
      "execution_count": 0,
      "outputs": []
    },
    {
      "cell_type": "code",
      "metadata": {
        "id": "hfv0GTxTPvp5",
        "colab_type": "code",
        "colab": {}
      },
      "source": [
        "preds = lightgbm_model.predict(test.drop(['id'], axis=1), num_iteration=lightgbm_model.best_iteration)"
      ],
      "execution_count": 0,
      "outputs": []
    },
    {
      "cell_type": "code",
      "metadata": {
        "id": "GGShIBeoSlQB",
        "colab_type": "code",
        "colab": {}
      },
      "source": [
        "preds = np.expm1(preds)"
      ],
      "execution_count": 0,
      "outputs": []
    },
    {
      "cell_type": "code",
      "metadata": {
        "id": "4fn3At7gRiRP",
        "colab_type": "code",
        "colab": {}
      },
      "source": [
        "test_sub = pd.read_csv('/content/drive/My Drive/AV LTFS Finhack2/test.csv', parse_dates=['application_date'])"
      ],
      "execution_count": 0,
      "outputs": []
    },
    {
      "cell_type": "code",
      "metadata": {
        "id": "zVmZmKBmTkIA",
        "colab_type": "code",
        "outputId": "5b703109-0327-42a7-e68a-1612967e950c",
        "colab": {
          "base_uri": "https://localhost:8080/",
          "height": 204
        }
      },
      "source": [
        "sub = pd.DataFrame()\n",
        "sub['id'] = test_sub['id']\n",
        "sub['application_date'] = test_sub['application_date']\n",
        "sub['segment'] = test_sub['segment']\n",
        "sub['case_count'] = preds\n",
        "sub.head()"
      ],
      "execution_count": 0,
      "outputs": [
        {
          "output_type": "execute_result",
          "data": {
            "text/html": [
              "<div>\n",
              "<style scoped>\n",
              "    .dataframe tbody tr th:only-of-type {\n",
              "        vertical-align: middle;\n",
              "    }\n",
              "\n",
              "    .dataframe tbody tr th {\n",
              "        vertical-align: top;\n",
              "    }\n",
              "\n",
              "    .dataframe thead th {\n",
              "        text-align: right;\n",
              "    }\n",
              "</style>\n",
              "<table border=\"1\" class=\"dataframe\">\n",
              "  <thead>\n",
              "    <tr style=\"text-align: right;\">\n",
              "      <th></th>\n",
              "      <th>id</th>\n",
              "      <th>application_date</th>\n",
              "      <th>segment</th>\n",
              "      <th>case_count</th>\n",
              "    </tr>\n",
              "  </thead>\n",
              "  <tbody>\n",
              "    <tr>\n",
              "      <th>0</th>\n",
              "      <td>1</td>\n",
              "      <td>2019-07-06</td>\n",
              "      <td>1</td>\n",
              "      <td>3199.342486</td>\n",
              "    </tr>\n",
              "    <tr>\n",
              "      <th>1</th>\n",
              "      <td>2</td>\n",
              "      <td>2019-07-07</td>\n",
              "      <td>1</td>\n",
              "      <td>1356.919164</td>\n",
              "    </tr>\n",
              "    <tr>\n",
              "      <th>2</th>\n",
              "      <td>3</td>\n",
              "      <td>2019-07-08</td>\n",
              "      <td>1</td>\n",
              "      <td>4229.451808</td>\n",
              "    </tr>\n",
              "    <tr>\n",
              "      <th>3</th>\n",
              "      <td>4</td>\n",
              "      <td>2019-07-09</td>\n",
              "      <td>1</td>\n",
              "      <td>3386.738862</td>\n",
              "    </tr>\n",
              "    <tr>\n",
              "      <th>4</th>\n",
              "      <td>5</td>\n",
              "      <td>2019-07-10</td>\n",
              "      <td>1</td>\n",
              "      <td>4025.102113</td>\n",
              "    </tr>\n",
              "  </tbody>\n",
              "</table>\n",
              "</div>"
            ],
            "text/plain": [
              "   id application_date  segment   case_count\n",
              "0   1       2019-07-06        1  3199.342486\n",
              "1   2       2019-07-07        1  1356.919164\n",
              "2   3       2019-07-08        1  4229.451808\n",
              "3   4       2019-07-09        1  3386.738862\n",
              "4   5       2019-07-10        1  4025.102113"
            ]
          },
          "metadata": {
            "tags": []
          },
          "execution_count": 25
        }
      ]
    },
    {
      "cell_type": "code",
      "metadata": {
        "id": "gval2il7TnX4",
        "colab_type": "code",
        "colab": {}
      },
      "source": [
        "sub.to_csv('lgb_cars.csv', index=False, header=True)"
      ],
      "execution_count": 0,
      "outputs": []
    }
  ]
}