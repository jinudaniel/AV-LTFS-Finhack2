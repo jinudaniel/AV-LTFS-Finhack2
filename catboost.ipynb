{
  "nbformat": 4,
  "nbformat_minor": 0,
  "metadata": {
    "colab": {
      "name": "catboost.ipynb",
      "provenance": [],
      "collapsed_sections": [],
      "toc_visible": true
    },
    "kernelspec": {
      "name": "python3",
      "display_name": "Python 3"
    }
  },
  "cells": [
    {
      "cell_type": "code",
      "metadata": {
        "id": "HIPZjr0hLKL_",
        "colab_type": "code",
        "outputId": "58a9b984-423a-485a-ab1b-e36e1a8777b7",
        "colab": {
          "base_uri": "https://localhost:8080/",
          "height": 122
        }
      },
      "source": [
        "from google.colab import drive\n",
        "drive.mount('/content/drive')"
      ],
      "execution_count": 0,
      "outputs": [
        {
          "output_type": "stream",
          "text": [
            "Go to this URL in a browser: https://accounts.google.com/o/oauth2/auth?client_id=947318989803-6bn6qk8qdgf4n4g3pfee6491hc0brc4i.apps.googleusercontent.com&redirect_uri=urn%3aietf%3awg%3aoauth%3a2.0%3aoob&response_type=code&scope=email%20https%3a%2f%2fwww.googleapis.com%2fauth%2fdocs.test%20https%3a%2f%2fwww.googleapis.com%2fauth%2fdrive%20https%3a%2f%2fwww.googleapis.com%2fauth%2fdrive.photos.readonly%20https%3a%2f%2fwww.googleapis.com%2fauth%2fpeopleapi.readonly\n",
            "\n",
            "Enter your authorization code:\n",
            "··········\n",
            "Mounted at /content/drive\n"
          ],
          "name": "stdout"
        }
      ]
    },
    {
      "cell_type": "code",
      "metadata": {
        "id": "xiEl3XknTZPm",
        "colab_type": "code",
        "outputId": "624c4748-ef88-4e74-f7ab-d4ef27ea1415",
        "colab": {
          "base_uri": "https://localhost:8080/",
          "height": 360
        }
      },
      "source": [
        "!pip install catboost"
      ],
      "execution_count": 0,
      "outputs": [
        {
          "output_type": "stream",
          "text": [
            "Collecting catboost\n",
            "\u001b[?25l  Downloading https://files.pythonhosted.org/packages/97/c4/586923de4634f88a31fd1b4966e15707a912b98b6f4566651b5ef58f36b5/catboost-0.20.2-cp36-none-manylinux1_x86_64.whl (63.9MB)\n",
            "\u001b[K     |████████████████████████████████| 63.9MB 61kB/s \n",
            "\u001b[?25hRequirement already satisfied: scipy in /usr/local/lib/python3.6/dist-packages (from catboost) (1.4.1)\n",
            "Requirement already satisfied: six in /usr/local/lib/python3.6/dist-packages (from catboost) (1.12.0)\n",
            "Requirement already satisfied: matplotlib in /usr/local/lib/python3.6/dist-packages (from catboost) (3.1.2)\n",
            "Requirement already satisfied: numpy>=1.16.0 in /usr/local/lib/python3.6/dist-packages (from catboost) (1.17.5)\n",
            "Requirement already satisfied: plotly in /usr/local/lib/python3.6/dist-packages (from catboost) (4.4.1)\n",
            "Requirement already satisfied: graphviz in /usr/local/lib/python3.6/dist-packages (from catboost) (0.10.1)\n",
            "Requirement already satisfied: pandas>=0.24.0 in /usr/local/lib/python3.6/dist-packages (from catboost) (0.25.3)\n",
            "Requirement already satisfied: kiwisolver>=1.0.1 in /usr/local/lib/python3.6/dist-packages (from matplotlib->catboost) (1.1.0)\n",
            "Requirement already satisfied: python-dateutil>=2.1 in /usr/local/lib/python3.6/dist-packages (from matplotlib->catboost) (2.6.1)\n",
            "Requirement already satisfied: pyparsing!=2.0.4,!=2.1.2,!=2.1.6,>=2.0.1 in /usr/local/lib/python3.6/dist-packages (from matplotlib->catboost) (2.4.6)\n",
            "Requirement already satisfied: cycler>=0.10 in /usr/local/lib/python3.6/dist-packages (from matplotlib->catboost) (0.10.0)\n",
            "Requirement already satisfied: retrying>=1.3.3 in /usr/local/lib/python3.6/dist-packages (from plotly->catboost) (1.3.3)\n",
            "Requirement already satisfied: pytz>=2017.2 in /usr/local/lib/python3.6/dist-packages (from pandas>=0.24.0->catboost) (2018.9)\n",
            "Requirement already satisfied: setuptools in /usr/local/lib/python3.6/dist-packages (from kiwisolver>=1.0.1->matplotlib->catboost) (42.0.2)\n",
            "Installing collected packages: catboost\n",
            "Successfully installed catboost-0.20.2\n"
          ],
          "name": "stdout"
        }
      ]
    },
    {
      "cell_type": "code",
      "metadata": {
        "id": "gK_tgmLGLL1r",
        "colab_type": "code",
        "colab": {}
      },
      "source": [
        "import pandas as pd\n",
        "import numpy as np\n",
        "import matplotlib.pyplot as plt\n",
        "import seaborn as sns\n",
        "from sklearn.model_selection import train_test_split\n",
        "import xgboost as xgb\n",
        "import lightgbm as lgb\n",
        "import holidays\n",
        "from datetime import date\n",
        "import re\n",
        "from catboost import CatBoostRegressor\n",
        "%matplotlib inline"
      ],
      "execution_count": 0,
      "outputs": []
    },
    {
      "cell_type": "code",
      "metadata": {
        "id": "-avpzKnPLVPf",
        "colab_type": "code",
        "colab": {}
      },
      "source": [
        "train = pd.read_csv('/content/drive/My Drive/AV LTFS Finhack2/train.csv', parse_dates=['application_date'])\n",
        "test = pd.read_csv('/content/drive/My Drive/AV LTFS Finhack2/test.csv', parse_dates=['application_date'])"
      ],
      "execution_count": 0,
      "outputs": []
    },
    {
      "cell_type": "code",
      "metadata": {
        "id": "TxFIOsjdLvyh",
        "colab_type": "code",
        "outputId": "5d495c6e-9425-41d1-8ff8-78cb8cd2d735",
        "colab": {
          "base_uri": "https://localhost:8080/",
          "height": 34
        }
      },
      "source": [
        "train_sum = train.groupby(by=['application_date', 'segment'])['case_count'].sum().reset_index().rename(columns={\"case_count\": \"case_count_sum\"})\n",
        "train = train.merge(train_sum, on=['application_date', 'segment'], how='left')\n",
        "train.shape"
      ],
      "execution_count": 0,
      "outputs": [
        {
          "output_type": "execute_result",
          "data": {
            "text/plain": [
              "(80402, 7)"
            ]
          },
          "metadata": {
            "tags": []
          },
          "execution_count": 5
        }
      ]
    },
    {
      "cell_type": "code",
      "metadata": {
        "id": "M3hjVT2XMVro",
        "colab_type": "code",
        "colab": {}
      },
      "source": [
        "holidays = holidays.India(years=[2017, 2018, 2019])\n",
        "holidays.append('2017-03-28')\n",
        "holidays.append('2017-09-30')\n",
        "holidays.append('2017-10-19')\n",
        "holidays.append('2018-03-02')\n",
        "holidays.append('2018-03-18')\n",
        "holidays.append('2018-09-13')\n",
        "holidays.append('2018-10-19')\n",
        "holidays.append('2018-11-07')\n",
        "holidays.append('2019-03-21')\n",
        "holidays.append('2019-04-06')\n",
        "holidays.append('2019-09-02')\n",
        "holidays.append('2019-10-08')\n",
        "holidays.append('2019-10-27')"
      ],
      "execution_count": 0,
      "outputs": []
    },
    {
      "cell_type": "code",
      "metadata": {
        "id": "Omzw9xErMtSx",
        "colab_type": "code",
        "colab": {}
      },
      "source": [
        "train['is_holiday'] = train['application_date'].dt.date.isin(holidays)"
      ],
      "execution_count": 0,
      "outputs": []
    },
    {
      "cell_type": "code",
      "metadata": {
        "id": "SguTalDkM6_5",
        "colab_type": "code",
        "colab": {}
      },
      "source": [
        "def add_datepart(df, fldname, drop=True, time=False):\n",
        "    \"Helper function that adds columns relevant to a date.\"\n",
        "    fld = df[fldname]\n",
        "    fld_dtype = fld.dtype\n",
        "    if isinstance(fld_dtype, pd.core.dtypes.dtypes.DatetimeTZDtype):\n",
        "        fld_dtype = np.datetime64\n",
        "\n",
        "    if not np.issubdtype(fld_dtype, np.datetime64):\n",
        "        df[fldname] = fld = pd.to_datetime(fld, infer_datetime_format=True)\n",
        "    targ_pre = re.sub('[Dd]ate$', '', fldname)\n",
        "    attr = ['Year', 'Month', 'Week', 'Day', 'Dayofweek', 'Dayofyear',\n",
        "            'Is_month_end', 'Is_month_start', 'Is_quarter_end', 'Is_quarter_start', 'Is_year_end', 'Is_year_start']\n",
        "    if time: attr = attr + ['Hour']\n",
        "    for n in attr: df[targ_pre + n] = getattr(fld.dt, n.lower())\n",
        "    df[targ_pre + 'Elapsed'] = fld.astype(np.int64) // 10 ** 9\n",
        "    if drop: df.drop(fldname, axis=1, inplace=True)"
      ],
      "execution_count": 0,
      "outputs": []
    },
    {
      "cell_type": "code",
      "metadata": {
        "id": "UqgNTUHfHDK_",
        "colab_type": "code",
        "outputId": "827fec22-86b5-4b76-fb1f-61a885623275",
        "colab": {
          "base_uri": "https://localhost:8080/",
          "height": 34
        }
      },
      "source": [
        "train.drop_duplicates(['application_date', 'segment'], inplace=True)\n",
        "train.shape"
      ],
      "execution_count": 0,
      "outputs": [
        {
          "output_type": "execute_result",
          "data": {
            "text/plain": [
              "(1650, 8)"
            ]
          },
          "metadata": {
            "tags": []
          },
          "execution_count": 9
        }
      ]
    },
    {
      "cell_type": "code",
      "metadata": {
        "id": "df0YBKmbM-vA",
        "colab_type": "code",
        "colab": {}
      },
      "source": [
        "add_datepart(train, 'application_date')"
      ],
      "execution_count": 0,
      "outputs": []
    },
    {
      "cell_type": "code",
      "metadata": {
        "id": "KUPRZbThNXcA",
        "colab_type": "code",
        "colab": {}
      },
      "source": [
        "train.drop(['branch_id', 'state', 'zone'], axis=1, inplace=True)"
      ],
      "execution_count": 0,
      "outputs": []
    },
    {
      "cell_type": "code",
      "metadata": {
        "id": "-XaTfL7kNkYS",
        "colab_type": "code",
        "colab": {}
      },
      "source": [
        "train.drop(['case_count'], axis=1, inplace=True)\n",
        "train.rename(columns={'case_count_sum': 'case_count'}, inplace=True)"
      ],
      "execution_count": 0,
      "outputs": []
    },
    {
      "cell_type": "code",
      "metadata": {
        "id": "u54Rd6YiSQCX",
        "colab_type": "code",
        "colab": {}
      },
      "source": [
        "train['case_count'] = np.log1p(train['case_count'])"
      ],
      "execution_count": 0,
      "outputs": []
    },
    {
      "cell_type": "code",
      "metadata": {
        "id": "fMLKK9_2NgzK",
        "colab_type": "code",
        "colab": {}
      },
      "source": [
        "X_train, X_valid, y_train, y_valid = train_test_split(train.drop(['case_count'], axis=1), train['case_count'], \n",
        "                                                    test_size=0.2, random_state=423)"
      ],
      "execution_count": 0,
      "outputs": []
    },
    {
      "cell_type": "code",
      "metadata": {
        "id": "y3BgG0aOOSv5",
        "colab_type": "code",
        "outputId": "72136d67-7361-4bf5-af4d-aed553b4e5b3",
        "colab": {
          "base_uri": "https://localhost:8080/",
          "height": 85
        }
      },
      "source": [
        "categorical_features = train.select_dtypes(include=np.bool)\n",
        "categorical_features.columns"
      ],
      "execution_count": 0,
      "outputs": [
        {
          "output_type": "execute_result",
          "data": {
            "text/plain": [
              "Index(['is_holiday', 'application_Is_month_end', 'application_Is_month_start',\n",
              "       'application_Is_quarter_end', 'application_Is_quarter_start',\n",
              "       'application_Is_year_end', 'application_Is_year_start'],\n",
              "      dtype='object')"
            ]
          },
          "metadata": {
            "tags": []
          },
          "execution_count": 17
        }
      ]
    },
    {
      "cell_type": "code",
      "metadata": {
        "id": "WCha9nQpOXFY",
        "colab_type": "code",
        "colab": {}
      },
      "source": [
        "model = CatBoostRegressor(n_estimators = 1000, depth=10,\n",
        "    loss_function = 'MAPE',\n",
        "    eval_metric = 'MAPE',\n",
        "    cat_features = categorical_features.columns )"
      ],
      "execution_count": 0,
      "outputs": []
    },
    {
      "cell_type": "code",
      "metadata": {
        "id": "0cHYaq4mU2n_",
        "colab_type": "code",
        "outputId": "cabd239c-d459-4e85-c6a1-d0983c33a6a1",
        "colab": {
          "base_uri": "https://localhost:8080/",
          "height": 1000
        }
      },
      "source": [
        "model.fit(X_train, y_train, use_best_model=True, eval_set=(X_valid, y_valid), early_stopping_rounds=50)"
      ],
      "execution_count": 0,
      "outputs": [
        {
          "output_type": "stream",
          "text": [
            "0:\tlearn: 0.1555634\ttest: 0.1244017\tbest: 0.1244017 (0)\ttotal: 47.7ms\tremaining: 47.7s\n",
            "1:\tlearn: 0.1526784\ttest: 0.1216840\tbest: 0.1216840 (1)\ttotal: 82ms\tremaining: 40.9s\n",
            "2:\tlearn: 0.1498109\ttest: 0.1190483\tbest: 0.1190483 (2)\ttotal: 117ms\tremaining: 39s\n",
            "3:\tlearn: 0.1469957\ttest: 0.1166499\tbest: 0.1166499 (3)\ttotal: 152ms\tremaining: 37.9s\n",
            "4:\tlearn: 0.1450528\ttest: 0.1146680\tbest: 0.1146680 (4)\ttotal: 169ms\tremaining: 33.7s\n",
            "5:\tlearn: 0.1424806\ttest: 0.1123631\tbest: 0.1123631 (5)\ttotal: 205ms\tremaining: 33.9s\n",
            "6:\tlearn: 0.1400108\ttest: 0.1102799\tbest: 0.1102799 (6)\ttotal: 240ms\tremaining: 34s\n",
            "7:\tlearn: 0.1372911\ttest: 0.1081941\tbest: 0.1081941 (7)\ttotal: 278ms\tremaining: 34.5s\n",
            "8:\tlearn: 0.1350834\ttest: 0.1062066\tbest: 0.1062066 (8)\ttotal: 313ms\tremaining: 34.5s\n",
            "9:\tlearn: 0.1327760\ttest: 0.1042844\tbest: 0.1042844 (9)\ttotal: 348ms\tremaining: 34.5s\n",
            "10:\tlearn: 0.1304312\ttest: 0.1022763\tbest: 0.1022763 (10)\ttotal: 384ms\tremaining: 34.5s\n",
            "11:\tlearn: 0.1280555\ttest: 0.1004625\tbest: 0.1004625 (11)\ttotal: 418ms\tremaining: 34.4s\n",
            "12:\tlearn: 0.1260984\ttest: 0.0986138\tbest: 0.0986138 (12)\ttotal: 453ms\tremaining: 34.4s\n",
            "13:\tlearn: 0.1247589\ttest: 0.0972955\tbest: 0.0972955 (13)\ttotal: 454ms\tremaining: 32s\n",
            "14:\tlearn: 0.1227968\ttest: 0.0956373\tbest: 0.0956373 (14)\ttotal: 493ms\tremaining: 32.4s\n",
            "15:\tlearn: 0.1211314\ttest: 0.0940909\tbest: 0.0940909 (15)\ttotal: 496ms\tremaining: 30.5s\n",
            "16:\tlearn: 0.1192029\ttest: 0.0924995\tbest: 0.0924995 (16)\ttotal: 530ms\tremaining: 30.7s\n",
            "17:\tlearn: 0.1169082\ttest: 0.0910158\tbest: 0.0910158 (17)\ttotal: 566ms\tremaining: 30.9s\n",
            "18:\tlearn: 0.1157749\ttest: 0.0898703\tbest: 0.0898703 (18)\ttotal: 567ms\tremaining: 29.3s\n",
            "19:\tlearn: 0.1138240\ttest: 0.0883611\tbest: 0.0883611 (19)\ttotal: 602ms\tremaining: 29.5s\n",
            "20:\tlearn: 0.1121784\ttest: 0.0870533\tbest: 0.0870533 (20)\ttotal: 638ms\tremaining: 29.7s\n",
            "21:\tlearn: 0.1106415\ttest: 0.0859914\tbest: 0.0859914 (21)\ttotal: 673ms\tremaining: 29.9s\n",
            "22:\tlearn: 0.1086334\ttest: 0.0847325\tbest: 0.0847325 (22)\ttotal: 712ms\tremaining: 30.2s\n",
            "23:\tlearn: 0.1067422\ttest: 0.0833403\tbest: 0.0833403 (23)\ttotal: 747ms\tremaining: 30.4s\n",
            "24:\tlearn: 0.1051060\ttest: 0.0821412\tbest: 0.0821412 (24)\ttotal: 784ms\tremaining: 30.6s\n",
            "25:\tlearn: 0.1040151\ttest: 0.0810599\tbest: 0.0810599 (25)\ttotal: 786ms\tremaining: 29.4s\n",
            "26:\tlearn: 0.1022501\ttest: 0.0797817\tbest: 0.0797817 (26)\ttotal: 823ms\tremaining: 29.7s\n",
            "27:\tlearn: 0.1006054\ttest: 0.0786182\tbest: 0.0786182 (27)\ttotal: 861ms\tremaining: 29.9s\n",
            "28:\tlearn: 0.0991654\ttest: 0.0774755\tbest: 0.0774755 (28)\ttotal: 898ms\tremaining: 30.1s\n",
            "29:\tlearn: 0.0978072\ttest: 0.0762233\tbest: 0.0762233 (29)\ttotal: 907ms\tremaining: 29.3s\n",
            "30:\tlearn: 0.0958797\ttest: 0.0751117\tbest: 0.0751117 (30)\ttotal: 945ms\tremaining: 29.5s\n",
            "31:\tlearn: 0.0947592\ttest: 0.0741336\tbest: 0.0741336 (31)\ttotal: 981ms\tremaining: 29.7s\n",
            "32:\tlearn: 0.0931535\ttest: 0.0728961\tbest: 0.0728961 (32)\ttotal: 1.02s\tremaining: 29.8s\n",
            "33:\tlearn: 0.0919825\ttest: 0.0719326\tbest: 0.0719326 (33)\ttotal: 1.05s\tremaining: 29.9s\n",
            "34:\tlearn: 0.0909016\ttest: 0.0709738\tbest: 0.0709738 (34)\ttotal: 1.07s\tremaining: 29.5s\n",
            "35:\tlearn: 0.0895636\ttest: 0.0697781\tbest: 0.0697781 (35)\ttotal: 1.09s\tremaining: 29.2s\n",
            "36:\tlearn: 0.0886946\ttest: 0.0690286\tbest: 0.0690286 (36)\ttotal: 1.09s\tremaining: 28.4s\n",
            "37:\tlearn: 0.0879547\ttest: 0.0682710\tbest: 0.0682710 (37)\ttotal: 1.09s\tremaining: 27.7s\n",
            "38:\tlearn: 0.0869503\ttest: 0.0673213\tbest: 0.0673213 (38)\ttotal: 1.1s\tremaining: 27.2s\n",
            "39:\tlearn: 0.0854699\ttest: 0.0665640\tbest: 0.0665640 (39)\ttotal: 1.14s\tremaining: 27.3s\n",
            "40:\tlearn: 0.0842594\ttest: 0.0656317\tbest: 0.0656317 (40)\ttotal: 1.18s\tremaining: 27.6s\n",
            "41:\tlearn: 0.0828756\ttest: 0.0649768\tbest: 0.0649768 (41)\ttotal: 1.22s\tremaining: 27.8s\n",
            "42:\tlearn: 0.0818274\ttest: 0.0641820\tbest: 0.0641820 (42)\ttotal: 1.25s\tremaining: 27.9s\n",
            "43:\tlearn: 0.0804228\ttest: 0.0634733\tbest: 0.0634733 (43)\ttotal: 1.29s\tremaining: 28.1s\n",
            "44:\tlearn: 0.0797093\ttest: 0.0628657\tbest: 0.0628657 (44)\ttotal: 1.3s\tremaining: 27.6s\n",
            "45:\tlearn: 0.0785820\ttest: 0.0623152\tbest: 0.0623152 (45)\ttotal: 1.34s\tremaining: 27.7s\n",
            "46:\tlearn: 0.0775000\ttest: 0.0617237\tbest: 0.0617237 (46)\ttotal: 1.38s\tremaining: 27.9s\n",
            "47:\tlearn: 0.0765687\ttest: 0.0612395\tbest: 0.0612395 (47)\ttotal: 1.42s\tremaining: 28.2s\n",
            "48:\tlearn: 0.0755868\ttest: 0.0605601\tbest: 0.0605601 (48)\ttotal: 1.46s\tremaining: 28.3s\n",
            "49:\tlearn: 0.0750398\ttest: 0.0600627\tbest: 0.0600627 (49)\ttotal: 1.46s\tremaining: 27.7s\n",
            "50:\tlearn: 0.0739679\ttest: 0.0594605\tbest: 0.0594605 (50)\ttotal: 1.5s\tremaining: 27.8s\n",
            "51:\tlearn: 0.0732321\ttest: 0.0589539\tbest: 0.0589539 (51)\ttotal: 1.53s\tremaining: 27.9s\n",
            "52:\tlearn: 0.0723142\ttest: 0.0583838\tbest: 0.0583838 (52)\ttotal: 1.55s\tremaining: 27.7s\n",
            "53:\tlearn: 0.0715319\ttest: 0.0578859\tbest: 0.0578859 (53)\ttotal: 1.59s\tremaining: 27.8s\n",
            "54:\tlearn: 0.0705984\ttest: 0.0572853\tbest: 0.0572853 (54)\ttotal: 1.63s\tremaining: 28s\n",
            "55:\tlearn: 0.0702780\ttest: 0.0570067\tbest: 0.0570067 (55)\ttotal: 1.63s\tremaining: 27.5s\n",
            "56:\tlearn: 0.0693125\ttest: 0.0565487\tbest: 0.0565487 (56)\ttotal: 1.67s\tremaining: 27.6s\n",
            "57:\tlearn: 0.0685012\ttest: 0.0561862\tbest: 0.0561862 (57)\ttotal: 1.7s\tremaining: 27.6s\n",
            "58:\tlearn: 0.0677989\ttest: 0.0557761\tbest: 0.0557761 (58)\ttotal: 1.74s\tremaining: 27.8s\n",
            "59:\tlearn: 0.0671143\ttest: 0.0553483\tbest: 0.0553483 (59)\ttotal: 1.78s\tremaining: 27.9s\n",
            "60:\tlearn: 0.0661320\ttest: 0.0548800\tbest: 0.0548800 (60)\ttotal: 1.82s\tremaining: 28s\n",
            "61:\tlearn: 0.0654369\ttest: 0.0544692\tbest: 0.0544692 (61)\ttotal: 1.86s\tremaining: 28.1s\n",
            "62:\tlearn: 0.0649215\ttest: 0.0541904\tbest: 0.0541904 (62)\ttotal: 1.89s\tremaining: 28.1s\n",
            "63:\tlearn: 0.0642864\ttest: 0.0538250\tbest: 0.0538250 (63)\ttotal: 1.93s\tremaining: 28.2s\n",
            "64:\tlearn: 0.0638353\ttest: 0.0535313\tbest: 0.0535313 (64)\ttotal: 1.94s\tremaining: 27.8s\n",
            "65:\tlearn: 0.0633872\ttest: 0.0533434\tbest: 0.0533434 (65)\ttotal: 1.94s\tremaining: 27.4s\n",
            "66:\tlearn: 0.0627785\ttest: 0.0529849\tbest: 0.0529849 (66)\ttotal: 1.97s\tremaining: 27.5s\n",
            "67:\tlearn: 0.0622659\ttest: 0.0526431\tbest: 0.0526431 (67)\ttotal: 2.01s\tremaining: 27.5s\n",
            "68:\tlearn: 0.0617213\ttest: 0.0523094\tbest: 0.0523094 (68)\ttotal: 2.04s\tremaining: 27.6s\n",
            "69:\tlearn: 0.0611279\ttest: 0.0519297\tbest: 0.0519297 (69)\ttotal: 2.08s\tremaining: 27.7s\n",
            "70:\tlearn: 0.0609533\ttest: 0.0517522\tbest: 0.0517522 (70)\ttotal: 2.08s\tremaining: 27.3s\n",
            "71:\tlearn: 0.0604723\ttest: 0.0514518\tbest: 0.0514518 (71)\ttotal: 2.12s\tremaining: 27.3s\n",
            "72:\tlearn: 0.0599438\ttest: 0.0510510\tbest: 0.0510510 (72)\ttotal: 2.16s\tremaining: 27.4s\n",
            "73:\tlearn: 0.0597650\ttest: 0.0508937\tbest: 0.0508937 (73)\ttotal: 2.16s\tremaining: 27s\n",
            "74:\tlearn: 0.0592070\ttest: 0.0506751\tbest: 0.0506751 (74)\ttotal: 2.19s\tremaining: 27.1s\n",
            "75:\tlearn: 0.0584774\ttest: 0.0503278\tbest: 0.0503278 (75)\ttotal: 2.23s\tremaining: 27.1s\n",
            "76:\tlearn: 0.0577953\ttest: 0.0500914\tbest: 0.0500914 (76)\ttotal: 2.27s\tremaining: 27.2s\n",
            "77:\tlearn: 0.0573495\ttest: 0.0498881\tbest: 0.0498881 (77)\ttotal: 2.31s\tremaining: 27.3s\n",
            "78:\tlearn: 0.0565624\ttest: 0.0497829\tbest: 0.0497829 (78)\ttotal: 2.34s\tremaining: 27.3s\n",
            "79:\tlearn: 0.0557824\ttest: 0.0494741\tbest: 0.0494741 (79)\ttotal: 2.38s\tremaining: 27.3s\n",
            "80:\tlearn: 0.0552444\ttest: 0.0492159\tbest: 0.0492159 (80)\ttotal: 2.41s\tremaining: 27.4s\n",
            "81:\tlearn: 0.0547608\ttest: 0.0490083\tbest: 0.0490083 (81)\ttotal: 2.45s\tremaining: 27.4s\n",
            "82:\tlearn: 0.0543123\ttest: 0.0487713\tbest: 0.0487713 (82)\ttotal: 2.47s\tremaining: 27.3s\n",
            "83:\tlearn: 0.0536815\ttest: 0.0485369\tbest: 0.0485369 (83)\ttotal: 2.51s\tremaining: 27.4s\n",
            "84:\tlearn: 0.0532452\ttest: 0.0483692\tbest: 0.0483692 (84)\ttotal: 2.55s\tremaining: 27.4s\n",
            "85:\tlearn: 0.0528256\ttest: 0.0482379\tbest: 0.0482379 (85)\ttotal: 2.56s\tremaining: 27.2s\n",
            "86:\tlearn: 0.0521898\ttest: 0.0480487\tbest: 0.0480487 (86)\ttotal: 2.59s\tremaining: 27.2s\n",
            "87:\tlearn: 0.0517004\ttest: 0.0477084\tbest: 0.0477084 (87)\ttotal: 2.63s\tremaining: 27.2s\n",
            "88:\tlearn: 0.0511433\ttest: 0.0475289\tbest: 0.0475289 (88)\ttotal: 2.66s\tremaining: 27.2s\n",
            "89:\tlearn: 0.0506968\ttest: 0.0473504\tbest: 0.0473504 (89)\ttotal: 2.7s\tremaining: 27.3s\n",
            "90:\tlearn: 0.0502197\ttest: 0.0471608\tbest: 0.0471608 (90)\ttotal: 2.73s\tremaining: 27.3s\n",
            "91:\tlearn: 0.0499595\ttest: 0.0470473\tbest: 0.0470473 (91)\ttotal: 2.77s\tremaining: 27.3s\n",
            "92:\tlearn: 0.0494855\ttest: 0.0468856\tbest: 0.0468856 (92)\ttotal: 2.8s\tremaining: 27.4s\n",
            "93:\tlearn: 0.0490337\ttest: 0.0466958\tbest: 0.0466958 (93)\ttotal: 2.84s\tremaining: 27.4s\n",
            "94:\tlearn: 0.0486872\ttest: 0.0465150\tbest: 0.0465150 (94)\ttotal: 2.88s\tremaining: 27.4s\n",
            "95:\tlearn: 0.0482429\ttest: 0.0463501\tbest: 0.0463501 (95)\ttotal: 2.92s\tremaining: 27.4s\n",
            "96:\tlearn: 0.0476909\ttest: 0.0462859\tbest: 0.0462859 (96)\ttotal: 2.95s\tremaining: 27.5s\n",
            "97:\tlearn: 0.0473730\ttest: 0.0461369\tbest: 0.0461369 (97)\ttotal: 2.99s\tremaining: 27.5s\n",
            "98:\tlearn: 0.0470849\ttest: 0.0460398\tbest: 0.0460398 (98)\ttotal: 3.02s\tremaining: 27.5s\n",
            "99:\tlearn: 0.0466505\ttest: 0.0459241\tbest: 0.0459241 (99)\ttotal: 3.06s\tremaining: 27.5s\n",
            "100:\tlearn: 0.0462038\ttest: 0.0457397\tbest: 0.0457397 (100)\ttotal: 3.09s\tremaining: 27.5s\n",
            "101:\tlearn: 0.0458281\ttest: 0.0456803\tbest: 0.0456803 (101)\ttotal: 3.13s\tremaining: 27.5s\n",
            "102:\tlearn: 0.0457301\ttest: 0.0456059\tbest: 0.0456059 (102)\ttotal: 3.13s\tremaining: 27.2s\n",
            "103:\tlearn: 0.0452623\ttest: 0.0455270\tbest: 0.0455270 (103)\ttotal: 3.16s\tremaining: 27.3s\n",
            "104:\tlearn: 0.0448821\ttest: 0.0454489\tbest: 0.0454489 (104)\ttotal: 3.2s\tremaining: 27.3s\n",
            "105:\tlearn: 0.0444679\ttest: 0.0454118\tbest: 0.0454118 (105)\ttotal: 3.24s\tremaining: 27.3s\n",
            "106:\tlearn: 0.0440111\ttest: 0.0452987\tbest: 0.0452987 (106)\ttotal: 3.27s\tremaining: 27.3s\n",
            "107:\tlearn: 0.0434911\ttest: 0.0451834\tbest: 0.0451834 (107)\ttotal: 3.31s\tremaining: 27.3s\n",
            "108:\tlearn: 0.0430755\ttest: 0.0451557\tbest: 0.0451557 (108)\ttotal: 3.34s\tremaining: 27.3s\n",
            "109:\tlearn: 0.0426195\ttest: 0.0450069\tbest: 0.0450069 (109)\ttotal: 3.38s\tremaining: 27.4s\n",
            "110:\tlearn: 0.0422036\ttest: 0.0449768\tbest: 0.0449768 (110)\ttotal: 3.42s\tremaining: 27.4s\n",
            "111:\tlearn: 0.0418447\ttest: 0.0448789\tbest: 0.0448789 (111)\ttotal: 3.45s\tremaining: 27.4s\n",
            "112:\tlearn: 0.0416631\ttest: 0.0447492\tbest: 0.0447492 (112)\ttotal: 3.49s\tremaining: 27.4s\n",
            "113:\tlearn: 0.0413345\ttest: 0.0447647\tbest: 0.0447492 (112)\ttotal: 3.52s\tremaining: 27.4s\n",
            "114:\tlearn: 0.0410271\ttest: 0.0447440\tbest: 0.0447440 (114)\ttotal: 3.56s\tremaining: 27.4s\n",
            "115:\tlearn: 0.0406445\ttest: 0.0447277\tbest: 0.0447277 (115)\ttotal: 3.6s\tremaining: 27.4s\n",
            "116:\tlearn: 0.0402469\ttest: 0.0446881\tbest: 0.0446881 (116)\ttotal: 3.64s\tremaining: 27.4s\n",
            "117:\tlearn: 0.0400509\ttest: 0.0446017\tbest: 0.0446017 (117)\ttotal: 3.67s\tremaining: 27.4s\n",
            "118:\tlearn: 0.0397831\ttest: 0.0445576\tbest: 0.0445576 (118)\ttotal: 3.71s\tremaining: 27.5s\n",
            "119:\tlearn: 0.0395169\ttest: 0.0445042\tbest: 0.0445042 (119)\ttotal: 3.75s\tremaining: 27.5s\n",
            "120:\tlearn: 0.0392575\ttest: 0.0444444\tbest: 0.0444444 (120)\ttotal: 3.78s\tremaining: 27.5s\n",
            "121:\tlearn: 0.0389675\ttest: 0.0443852\tbest: 0.0443852 (121)\ttotal: 3.82s\tremaining: 27.5s\n",
            "122:\tlearn: 0.0385327\ttest: 0.0443106\tbest: 0.0443106 (122)\ttotal: 3.86s\tremaining: 27.5s\n",
            "123:\tlearn: 0.0382006\ttest: 0.0442599\tbest: 0.0442599 (123)\ttotal: 3.89s\tremaining: 27.5s\n",
            "124:\tlearn: 0.0377123\ttest: 0.0441594\tbest: 0.0441594 (124)\ttotal: 3.93s\tremaining: 27.5s\n",
            "125:\tlearn: 0.0373228\ttest: 0.0440802\tbest: 0.0440802 (125)\ttotal: 3.96s\tremaining: 27.5s\n",
            "126:\tlearn: 0.0368640\ttest: 0.0440156\tbest: 0.0440156 (126)\ttotal: 4s\tremaining: 27.5s\n",
            "127:\tlearn: 0.0366466\ttest: 0.0439782\tbest: 0.0439782 (127)\ttotal: 4.04s\tremaining: 27.5s\n",
            "128:\tlearn: 0.0363948\ttest: 0.0439231\tbest: 0.0439231 (128)\ttotal: 4.08s\tremaining: 27.6s\n",
            "129:\tlearn: 0.0361374\ttest: 0.0438742\tbest: 0.0438742 (129)\ttotal: 4.12s\tremaining: 27.6s\n",
            "130:\tlearn: 0.0359210\ttest: 0.0437437\tbest: 0.0437437 (130)\ttotal: 4.16s\tremaining: 27.6s\n",
            "131:\tlearn: 0.0356662\ttest: 0.0436551\tbest: 0.0436551 (131)\ttotal: 4.19s\tremaining: 27.6s\n",
            "132:\tlearn: 0.0353997\ttest: 0.0436173\tbest: 0.0436173 (132)\ttotal: 4.23s\tremaining: 27.6s\n",
            "133:\tlearn: 0.0351107\ttest: 0.0435346\tbest: 0.0435346 (133)\ttotal: 4.27s\tremaining: 27.6s\n",
            "134:\tlearn: 0.0347975\ttest: 0.0434936\tbest: 0.0434936 (134)\ttotal: 4.3s\tremaining: 27.6s\n",
            "135:\tlearn: 0.0346050\ttest: 0.0434097\tbest: 0.0434097 (135)\ttotal: 4.34s\tremaining: 27.6s\n",
            "136:\tlearn: 0.0342320\ttest: 0.0434213\tbest: 0.0434097 (135)\ttotal: 4.38s\tremaining: 27.6s\n",
            "137:\tlearn: 0.0339737\ttest: 0.0434521\tbest: 0.0434097 (135)\ttotal: 4.41s\tremaining: 27.6s\n",
            "138:\tlearn: 0.0336083\ttest: 0.0433827\tbest: 0.0433827 (138)\ttotal: 4.45s\tremaining: 27.6s\n",
            "139:\tlearn: 0.0336035\ttest: 0.0433718\tbest: 0.0433718 (139)\ttotal: 4.45s\tremaining: 27.3s\n",
            "140:\tlearn: 0.0334862\ttest: 0.0433684\tbest: 0.0433684 (140)\ttotal: 4.45s\tremaining: 27.1s\n",
            "141:\tlearn: 0.0333640\ttest: 0.0434004\tbest: 0.0433684 (140)\ttotal: 4.49s\tremaining: 27.1s\n",
            "142:\tlearn: 0.0332803\ttest: 0.0433482\tbest: 0.0433482 (142)\ttotal: 4.5s\tremaining: 27s\n",
            "143:\tlearn: 0.0330831\ttest: 0.0432853\tbest: 0.0432853 (143)\ttotal: 4.55s\tremaining: 27s\n",
            "144:\tlearn: 0.0328871\ttest: 0.0432414\tbest: 0.0432414 (144)\ttotal: 4.58s\tremaining: 27s\n",
            "145:\tlearn: 0.0325908\ttest: 0.0432984\tbest: 0.0432414 (144)\ttotal: 4.62s\tremaining: 27s\n",
            "146:\tlearn: 0.0323758\ttest: 0.0432743\tbest: 0.0432414 (144)\ttotal: 4.66s\tremaining: 27s\n",
            "147:\tlearn: 0.0321248\ttest: 0.0432451\tbest: 0.0432414 (144)\ttotal: 4.7s\tremaining: 27.1s\n",
            "148:\tlearn: 0.0318952\ttest: 0.0432225\tbest: 0.0432225 (148)\ttotal: 4.74s\tremaining: 27s\n",
            "149:\tlearn: 0.0315187\ttest: 0.0432281\tbest: 0.0432225 (148)\ttotal: 4.77s\tremaining: 27s\n",
            "150:\tlearn: 0.0313398\ttest: 0.0432540\tbest: 0.0432225 (148)\ttotal: 4.81s\tremaining: 27s\n",
            "151:\tlearn: 0.0310405\ttest: 0.0432420\tbest: 0.0432225 (148)\ttotal: 4.85s\tremaining: 27s\n",
            "152:\tlearn: 0.0307347\ttest: 0.0432353\tbest: 0.0432225 (148)\ttotal: 4.88s\tremaining: 27s\n",
            "153:\tlearn: 0.0305682\ttest: 0.0432045\tbest: 0.0432045 (153)\ttotal: 4.92s\tremaining: 27s\n",
            "154:\tlearn: 0.0304360\ttest: 0.0431962\tbest: 0.0431962 (154)\ttotal: 4.96s\tremaining: 27.1s\n",
            "155:\tlearn: 0.0302771\ttest: 0.0431406\tbest: 0.0431406 (155)\ttotal: 5s\tremaining: 27.1s\n",
            "156:\tlearn: 0.0300273\ttest: 0.0431261\tbest: 0.0431261 (156)\ttotal: 5.04s\tremaining: 27s\n",
            "157:\tlearn: 0.0297414\ttest: 0.0431058\tbest: 0.0431058 (157)\ttotal: 5.07s\tremaining: 27s\n",
            "158:\tlearn: 0.0295103\ttest: 0.0431010\tbest: 0.0431010 (158)\ttotal: 5.11s\tremaining: 27s\n",
            "159:\tlearn: 0.0292559\ttest: 0.0430251\tbest: 0.0430251 (159)\ttotal: 5.15s\tremaining: 27s\n",
            "160:\tlearn: 0.0290039\ttest: 0.0429903\tbest: 0.0429903 (160)\ttotal: 5.18s\tremaining: 27s\n",
            "161:\tlearn: 0.0287026\ttest: 0.0429979\tbest: 0.0429903 (160)\ttotal: 5.22s\tremaining: 27s\n",
            "162:\tlearn: 0.0285668\ttest: 0.0429804\tbest: 0.0429804 (162)\ttotal: 5.25s\tremaining: 27s\n",
            "163:\tlearn: 0.0283013\ttest: 0.0429732\tbest: 0.0429732 (163)\ttotal: 5.29s\tremaining: 27s\n",
            "164:\tlearn: 0.0280991\ttest: 0.0429330\tbest: 0.0429330 (164)\ttotal: 5.32s\tremaining: 26.9s\n",
            "165:\tlearn: 0.0279882\ttest: 0.0429082\tbest: 0.0429082 (165)\ttotal: 5.36s\tremaining: 26.9s\n",
            "166:\tlearn: 0.0277675\ttest: 0.0428667\tbest: 0.0428667 (166)\ttotal: 5.4s\tremaining: 26.9s\n",
            "167:\tlearn: 0.0275984\ttest: 0.0428324\tbest: 0.0428324 (167)\ttotal: 5.43s\tremaining: 26.9s\n",
            "168:\tlearn: 0.0274625\ttest: 0.0428037\tbest: 0.0428037 (168)\ttotal: 5.47s\tremaining: 26.9s\n",
            "169:\tlearn: 0.0271679\ttest: 0.0427159\tbest: 0.0427159 (169)\ttotal: 5.5s\tremaining: 26.9s\n",
            "170:\tlearn: 0.0269860\ttest: 0.0426486\tbest: 0.0426486 (170)\ttotal: 5.54s\tremaining: 26.9s\n",
            "171:\tlearn: 0.0268641\ttest: 0.0425784\tbest: 0.0425784 (171)\ttotal: 5.58s\tremaining: 26.9s\n",
            "172:\tlearn: 0.0267913\ttest: 0.0425369\tbest: 0.0425369 (172)\ttotal: 5.59s\tremaining: 26.7s\n",
            "173:\tlearn: 0.0266365\ttest: 0.0425315\tbest: 0.0425315 (173)\ttotal: 5.62s\tremaining: 26.7s\n",
            "174:\tlearn: 0.0264163\ttest: 0.0424831\tbest: 0.0424831 (174)\ttotal: 5.66s\tremaining: 26.7s\n",
            "175:\tlearn: 0.0262387\ttest: 0.0424240\tbest: 0.0424240 (175)\ttotal: 5.69s\tremaining: 26.7s\n",
            "176:\tlearn: 0.0260652\ttest: 0.0423971\tbest: 0.0423971 (176)\ttotal: 5.74s\tremaining: 26.7s\n",
            "177:\tlearn: 0.0259086\ttest: 0.0423506\tbest: 0.0423506 (177)\ttotal: 5.77s\tremaining: 26.7s\n",
            "178:\tlearn: 0.0257370\ttest: 0.0423200\tbest: 0.0423200 (178)\ttotal: 5.81s\tremaining: 26.6s\n",
            "179:\tlearn: 0.0255679\ttest: 0.0423013\tbest: 0.0423013 (179)\ttotal: 5.84s\tremaining: 26.6s\n",
            "180:\tlearn: 0.0253900\ttest: 0.0422875\tbest: 0.0422875 (180)\ttotal: 5.88s\tremaining: 26.6s\n",
            "181:\tlearn: 0.0252731\ttest: 0.0422865\tbest: 0.0422865 (181)\ttotal: 5.92s\tremaining: 26.6s\n",
            "182:\tlearn: 0.0250260\ttest: 0.0422527\tbest: 0.0422527 (182)\ttotal: 5.95s\tremaining: 26.6s\n",
            "183:\tlearn: 0.0248986\ttest: 0.0422690\tbest: 0.0422527 (182)\ttotal: 5.99s\tremaining: 26.6s\n",
            "184:\tlearn: 0.0247064\ttest: 0.0422431\tbest: 0.0422431 (184)\ttotal: 6.03s\tremaining: 26.6s\n",
            "185:\tlearn: 0.0245352\ttest: 0.0422604\tbest: 0.0422431 (184)\ttotal: 6.06s\tremaining: 26.5s\n",
            "186:\tlearn: 0.0243891\ttest: 0.0422662\tbest: 0.0422431 (184)\ttotal: 6.1s\tremaining: 26.5s\n",
            "187:\tlearn: 0.0242157\ttest: 0.0422495\tbest: 0.0422431 (184)\ttotal: 6.14s\tremaining: 26.5s\n",
            "188:\tlearn: 0.0240428\ttest: 0.0422047\tbest: 0.0422047 (188)\ttotal: 6.17s\tremaining: 26.5s\n",
            "189:\tlearn: 0.0239022\ttest: 0.0422049\tbest: 0.0422047 (188)\ttotal: 6.21s\tremaining: 26.5s\n",
            "190:\tlearn: 0.0237086\ttest: 0.0422260\tbest: 0.0422047 (188)\ttotal: 6.24s\tremaining: 26.4s\n",
            "191:\tlearn: 0.0235485\ttest: 0.0421885\tbest: 0.0421885 (191)\ttotal: 6.28s\tremaining: 26.4s\n",
            "192:\tlearn: 0.0234487\ttest: 0.0421623\tbest: 0.0421623 (192)\ttotal: 6.32s\tremaining: 26.4s\n",
            "193:\tlearn: 0.0232349\ttest: 0.0421814\tbest: 0.0421623 (192)\ttotal: 6.35s\tremaining: 26.4s\n",
            "194:\tlearn: 0.0229731\ttest: 0.0421449\tbest: 0.0421449 (194)\ttotal: 6.38s\tremaining: 26.4s\n",
            "195:\tlearn: 0.0228445\ttest: 0.0421423\tbest: 0.0421423 (195)\ttotal: 6.42s\tremaining: 26.3s\n",
            "196:\tlearn: 0.0227114\ttest: 0.0420761\tbest: 0.0420761 (196)\ttotal: 6.46s\tremaining: 26.3s\n",
            "197:\tlearn: 0.0225596\ttest: 0.0420690\tbest: 0.0420690 (197)\ttotal: 6.49s\tremaining: 26.3s\n",
            "198:\tlearn: 0.0224300\ttest: 0.0420588\tbest: 0.0420588 (198)\ttotal: 6.53s\tremaining: 26.3s\n",
            "199:\tlearn: 0.0222754\ttest: 0.0420455\tbest: 0.0420455 (199)\ttotal: 6.57s\tremaining: 26.3s\n",
            "200:\tlearn: 0.0221692\ttest: 0.0419648\tbest: 0.0419648 (200)\ttotal: 6.6s\tremaining: 26.2s\n",
            "201:\tlearn: 0.0219629\ttest: 0.0419530\tbest: 0.0419530 (201)\ttotal: 6.64s\tremaining: 26.2s\n",
            "202:\tlearn: 0.0218771\ttest: 0.0419541\tbest: 0.0419530 (201)\ttotal: 6.67s\tremaining: 26.2s\n",
            "203:\tlearn: 0.0218693\ttest: 0.0419508\tbest: 0.0419508 (203)\ttotal: 6.68s\tremaining: 26.1s\n",
            "204:\tlearn: 0.0217646\ttest: 0.0419591\tbest: 0.0419508 (203)\ttotal: 6.71s\tremaining: 26s\n",
            "205:\tlearn: 0.0216906\ttest: 0.0419290\tbest: 0.0419290 (205)\ttotal: 6.75s\tremaining: 26s\n",
            "206:\tlearn: 0.0215713\ttest: 0.0419205\tbest: 0.0419205 (206)\ttotal: 6.78s\tremaining: 26s\n",
            "207:\tlearn: 0.0213861\ttest: 0.0419260\tbest: 0.0419205 (206)\ttotal: 6.82s\tremaining: 26s\n",
            "208:\tlearn: 0.0212976\ttest: 0.0419090\tbest: 0.0419090 (208)\ttotal: 6.85s\tremaining: 25.9s\n",
            "209:\tlearn: 0.0211977\ttest: 0.0419026\tbest: 0.0419026 (209)\ttotal: 6.89s\tremaining: 25.9s\n",
            "210:\tlearn: 0.0211931\ttest: 0.0419002\tbest: 0.0419002 (210)\ttotal: 6.89s\tremaining: 25.8s\n",
            "211:\tlearn: 0.0210558\ttest: 0.0418833\tbest: 0.0418833 (211)\ttotal: 6.93s\tremaining: 25.7s\n",
            "212:\tlearn: 0.0210526\ttest: 0.0418807\tbest: 0.0418807 (212)\ttotal: 6.93s\tremaining: 25.6s\n",
            "213:\tlearn: 0.0209010\ttest: 0.0418417\tbest: 0.0418417 (213)\ttotal: 6.96s\tremaining: 25.6s\n",
            "214:\tlearn: 0.0207448\ttest: 0.0417789\tbest: 0.0417789 (214)\ttotal: 7s\tremaining: 25.6s\n",
            "215:\tlearn: 0.0206060\ttest: 0.0418391\tbest: 0.0417789 (214)\ttotal: 7.04s\tremaining: 25.6s\n",
            "216:\tlearn: 0.0205028\ttest: 0.0418475\tbest: 0.0417789 (214)\ttotal: 7.08s\tremaining: 25.5s\n",
            "217:\tlearn: 0.0204098\ttest: 0.0418124\tbest: 0.0417789 (214)\ttotal: 7.12s\tremaining: 25.5s\n",
            "218:\tlearn: 0.0202935\ttest: 0.0417961\tbest: 0.0417789 (214)\ttotal: 7.15s\tremaining: 25.5s\n",
            "219:\tlearn: 0.0201567\ttest: 0.0417793\tbest: 0.0417789 (214)\ttotal: 7.19s\tremaining: 25.5s\n",
            "220:\tlearn: 0.0200570\ttest: 0.0417444\tbest: 0.0417444 (220)\ttotal: 7.22s\tremaining: 25.5s\n",
            "221:\tlearn: 0.0198766\ttest: 0.0417482\tbest: 0.0417444 (220)\ttotal: 7.26s\tremaining: 25.4s\n",
            "222:\tlearn: 0.0197684\ttest: 0.0417487\tbest: 0.0417444 (220)\ttotal: 7.3s\tremaining: 25.4s\n",
            "223:\tlearn: 0.0197099\ttest: 0.0417253\tbest: 0.0417253 (223)\ttotal: 7.33s\tremaining: 25.4s\n",
            "224:\tlearn: 0.0196283\ttest: 0.0417170\tbest: 0.0417170 (224)\ttotal: 7.37s\tremaining: 25.4s\n",
            "225:\tlearn: 0.0194817\ttest: 0.0416515\tbest: 0.0416515 (225)\ttotal: 7.41s\tremaining: 25.4s\n",
            "226:\tlearn: 0.0193808\ttest: 0.0417285\tbest: 0.0416515 (225)\ttotal: 7.45s\tremaining: 25.4s\n",
            "227:\tlearn: 0.0192306\ttest: 0.0417127\tbest: 0.0416515 (225)\ttotal: 7.48s\tremaining: 25.3s\n",
            "228:\tlearn: 0.0191164\ttest: 0.0417088\tbest: 0.0416515 (225)\ttotal: 7.52s\tremaining: 25.3s\n",
            "229:\tlearn: 0.0189987\ttest: 0.0416893\tbest: 0.0416515 (225)\ttotal: 7.56s\tremaining: 25.3s\n",
            "230:\tlearn: 0.0188721\ttest: 0.0416847\tbest: 0.0416515 (225)\ttotal: 7.6s\tremaining: 25.3s\n",
            "231:\tlearn: 0.0187504\ttest: 0.0416389\tbest: 0.0416389 (231)\ttotal: 7.63s\tremaining: 25.3s\n",
            "232:\tlearn: 0.0186260\ttest: 0.0416309\tbest: 0.0416309 (232)\ttotal: 7.67s\tremaining: 25.2s\n",
            "233:\tlearn: 0.0185176\ttest: 0.0416258\tbest: 0.0416258 (233)\ttotal: 7.71s\tremaining: 25.2s\n",
            "234:\tlearn: 0.0184070\ttest: 0.0416152\tbest: 0.0416152 (234)\ttotal: 7.74s\tremaining: 25.2s\n",
            "235:\tlearn: 0.0183045\ttest: 0.0415792\tbest: 0.0415792 (235)\ttotal: 7.78s\tremaining: 25.2s\n",
            "236:\tlearn: 0.0181607\ttest: 0.0415885\tbest: 0.0415792 (235)\ttotal: 7.81s\tremaining: 25.2s\n",
            "237:\tlearn: 0.0180502\ttest: 0.0415991\tbest: 0.0415792 (235)\ttotal: 7.85s\tremaining: 25.1s\n",
            "238:\tlearn: 0.0179373\ttest: 0.0415590\tbest: 0.0415590 (238)\ttotal: 7.89s\tremaining: 25.1s\n",
            "239:\tlearn: 0.0178149\ttest: 0.0415430\tbest: 0.0415430 (239)\ttotal: 7.92s\tremaining: 25.1s\n",
            "240:\tlearn: 0.0177535\ttest: 0.0415318\tbest: 0.0415318 (240)\ttotal: 7.96s\tremaining: 25.1s\n",
            "241:\tlearn: 0.0176241\ttest: 0.0415308\tbest: 0.0415308 (241)\ttotal: 8s\tremaining: 25.1s\n",
            "242:\tlearn: 0.0175352\ttest: 0.0415042\tbest: 0.0415042 (242)\ttotal: 8.03s\tremaining: 25s\n",
            "243:\tlearn: 0.0174511\ttest: 0.0414709\tbest: 0.0414709 (243)\ttotal: 8.07s\tremaining: 25s\n",
            "244:\tlearn: 0.0173298\ttest: 0.0414533\tbest: 0.0414533 (244)\ttotal: 8.1s\tremaining: 25s\n",
            "245:\tlearn: 0.0173028\ttest: 0.0414481\tbest: 0.0414481 (245)\ttotal: 8.11s\tremaining: 24.9s\n",
            "246:\tlearn: 0.0172465\ttest: 0.0414295\tbest: 0.0414295 (246)\ttotal: 8.15s\tremaining: 24.9s\n",
            "247:\tlearn: 0.0171567\ttest: 0.0414287\tbest: 0.0414287 (247)\ttotal: 8.19s\tremaining: 24.8s\n",
            "248:\tlearn: 0.0171069\ttest: 0.0414001\tbest: 0.0414001 (248)\ttotal: 8.23s\tremaining: 24.8s\n",
            "249:\tlearn: 0.0169877\ttest: 0.0413998\tbest: 0.0413998 (249)\ttotal: 8.26s\tremaining: 24.8s\n",
            "250:\tlearn: 0.0169273\ttest: 0.0413911\tbest: 0.0413911 (250)\ttotal: 8.3s\tremaining: 24.8s\n",
            "251:\tlearn: 0.0167807\ttest: 0.0413664\tbest: 0.0413664 (251)\ttotal: 8.34s\tremaining: 24.7s\n",
            "252:\tlearn: 0.0166364\ttest: 0.0413433\tbest: 0.0413433 (252)\ttotal: 8.37s\tremaining: 24.7s\n",
            "253:\tlearn: 0.0165729\ttest: 0.0413084\tbest: 0.0413084 (253)\ttotal: 8.41s\tremaining: 24.7s\n",
            "254:\tlearn: 0.0165160\ttest: 0.0413102\tbest: 0.0413084 (253)\ttotal: 8.45s\tremaining: 24.7s\n",
            "255:\tlearn: 0.0164200\ttest: 0.0413096\tbest: 0.0413084 (253)\ttotal: 8.49s\tremaining: 24.7s\n",
            "256:\tlearn: 0.0163301\ttest: 0.0413367\tbest: 0.0413084 (253)\ttotal: 8.54s\tremaining: 24.7s\n",
            "257:\tlearn: 0.0162093\ttest: 0.0413015\tbest: 0.0413015 (257)\ttotal: 8.58s\tremaining: 24.7s\n",
            "258:\tlearn: 0.0161703\ttest: 0.0413010\tbest: 0.0413010 (258)\ttotal: 8.62s\tremaining: 24.7s\n",
            "259:\tlearn: 0.0160582\ttest: 0.0413077\tbest: 0.0413010 (258)\ttotal: 8.66s\tremaining: 24.6s\n",
            "260:\tlearn: 0.0160011\ttest: 0.0412954\tbest: 0.0412954 (260)\ttotal: 8.69s\tremaining: 24.6s\n",
            "261:\tlearn: 0.0159052\ttest: 0.0412644\tbest: 0.0412644 (261)\ttotal: 8.73s\tremaining: 24.6s\n",
            "262:\tlearn: 0.0158605\ttest: 0.0412632\tbest: 0.0412632 (262)\ttotal: 8.77s\tremaining: 24.6s\n",
            "263:\tlearn: 0.0157933\ttest: 0.0412389\tbest: 0.0412389 (263)\ttotal: 8.8s\tremaining: 24.5s\n",
            "264:\tlearn: 0.0157096\ttest: 0.0412269\tbest: 0.0412269 (264)\ttotal: 8.84s\tremaining: 24.5s\n",
            "265:\tlearn: 0.0156321\ttest: 0.0412266\tbest: 0.0412266 (265)\ttotal: 8.88s\tremaining: 24.5s\n",
            "266:\tlearn: 0.0155683\ttest: 0.0412072\tbest: 0.0412072 (266)\ttotal: 8.91s\tremaining: 24.5s\n",
            "267:\tlearn: 0.0154423\ttest: 0.0411980\tbest: 0.0411980 (267)\ttotal: 8.95s\tremaining: 24.4s\n",
            "268:\tlearn: 0.0153620\ttest: 0.0412417\tbest: 0.0411980 (267)\ttotal: 8.98s\tremaining: 24.4s\n",
            "269:\tlearn: 0.0153128\ttest: 0.0411996\tbest: 0.0411980 (267)\ttotal: 9.02s\tremaining: 24.4s\n",
            "270:\tlearn: 0.0152300\ttest: 0.0412153\tbest: 0.0411980 (267)\ttotal: 9.06s\tremaining: 24.4s\n",
            "271:\tlearn: 0.0151647\ttest: 0.0411945\tbest: 0.0411945 (271)\ttotal: 9.09s\tremaining: 24.3s\n",
            "272:\tlearn: 0.0150851\ttest: 0.0412256\tbest: 0.0411945 (271)\ttotal: 9.13s\tremaining: 24.3s\n",
            "273:\tlearn: 0.0149934\ttest: 0.0412483\tbest: 0.0411945 (271)\ttotal: 9.17s\tremaining: 24.3s\n",
            "274:\tlearn: 0.0149024\ttest: 0.0412333\tbest: 0.0411945 (271)\ttotal: 9.2s\tremaining: 24.3s\n",
            "275:\tlearn: 0.0148288\ttest: 0.0412224\tbest: 0.0411945 (271)\ttotal: 9.24s\tremaining: 24.2s\n",
            "276:\tlearn: 0.0147664\ttest: 0.0412217\tbest: 0.0411945 (271)\ttotal: 9.27s\tremaining: 24.2s\n",
            "277:\tlearn: 0.0147180\ttest: 0.0412442\tbest: 0.0411945 (271)\ttotal: 9.31s\tremaining: 24.2s\n",
            "278:\tlearn: 0.0146535\ttest: 0.0412482\tbest: 0.0411945 (271)\ttotal: 9.35s\tremaining: 24.2s\n",
            "279:\tlearn: 0.0145772\ttest: 0.0412315\tbest: 0.0411945 (271)\ttotal: 9.38s\tremaining: 24.1s\n",
            "280:\tlearn: 0.0144617\ttest: 0.0412201\tbest: 0.0411945 (271)\ttotal: 9.42s\tremaining: 24.1s\n",
            "281:\tlearn: 0.0143942\ttest: 0.0412339\tbest: 0.0411945 (271)\ttotal: 9.45s\tremaining: 24.1s\n",
            "282:\tlearn: 0.0142845\ttest: 0.0412157\tbest: 0.0411945 (271)\ttotal: 9.49s\tremaining: 24s\n",
            "283:\tlearn: 0.0141968\ttest: 0.0412040\tbest: 0.0411945 (271)\ttotal: 9.53s\tremaining: 24s\n",
            "284:\tlearn: 0.0141428\ttest: 0.0412166\tbest: 0.0411945 (271)\ttotal: 9.57s\tremaining: 24s\n",
            "285:\tlearn: 0.0140478\ttest: 0.0411412\tbest: 0.0411412 (285)\ttotal: 9.61s\tremaining: 24s\n",
            "286:\tlearn: 0.0139891\ttest: 0.0411329\tbest: 0.0411329 (286)\ttotal: 9.64s\tremaining: 24s\n",
            "287:\tlearn: 0.0139220\ttest: 0.0411066\tbest: 0.0411066 (287)\ttotal: 9.68s\tremaining: 23.9s\n",
            "288:\tlearn: 0.0138680\ttest: 0.0410920\tbest: 0.0410920 (288)\ttotal: 9.71s\tremaining: 23.9s\n",
            "289:\tlearn: 0.0138298\ttest: 0.0410887\tbest: 0.0410887 (289)\ttotal: 9.75s\tremaining: 23.9s\n",
            "290:\tlearn: 0.0137671\ttest: 0.0410580\tbest: 0.0410580 (290)\ttotal: 9.79s\tremaining: 23.8s\n",
            "291:\tlearn: 0.0136796\ttest: 0.0410815\tbest: 0.0410580 (290)\ttotal: 9.82s\tremaining: 23.8s\n",
            "292:\tlearn: 0.0136105\ttest: 0.0410701\tbest: 0.0410580 (290)\ttotal: 9.86s\tremaining: 23.8s\n",
            "293:\tlearn: 0.0135528\ttest: 0.0410807\tbest: 0.0410580 (290)\ttotal: 9.89s\tremaining: 23.8s\n",
            "294:\tlearn: 0.0134873\ttest: 0.0410720\tbest: 0.0410580 (290)\ttotal: 9.93s\tremaining: 23.7s\n",
            "295:\tlearn: 0.0133990\ttest: 0.0410695\tbest: 0.0410580 (290)\ttotal: 9.97s\tremaining: 23.7s\n",
            "296:\tlearn: 0.0133330\ttest: 0.0410351\tbest: 0.0410351 (296)\ttotal: 10s\tremaining: 23.7s\n",
            "297:\tlearn: 0.0133039\ttest: 0.0410309\tbest: 0.0410309 (297)\ttotal: 10s\tremaining: 23.6s\n",
            "298:\tlearn: 0.0132443\ttest: 0.0410024\tbest: 0.0410024 (298)\ttotal: 10.1s\tremaining: 23.6s\n",
            "299:\tlearn: 0.0131875\ttest: 0.0409981\tbest: 0.0409981 (299)\ttotal: 10.1s\tremaining: 23.6s\n",
            "300:\tlearn: 0.0131342\ttest: 0.0409981\tbest: 0.0409981 (300)\ttotal: 10.1s\tremaining: 23.6s\n",
            "301:\tlearn: 0.0130816\ttest: 0.0409814\tbest: 0.0409814 (301)\ttotal: 10.2s\tremaining: 23.5s\n",
            "302:\tlearn: 0.0130305\ttest: 0.0409796\tbest: 0.0409796 (302)\ttotal: 10.2s\tremaining: 23.5s\n",
            "303:\tlearn: 0.0129739\ttest: 0.0409614\tbest: 0.0409614 (303)\ttotal: 10.3s\tremaining: 23.5s\n",
            "304:\tlearn: 0.0129246\ttest: 0.0409446\tbest: 0.0409446 (304)\ttotal: 10.3s\tremaining: 23.4s\n",
            "305:\tlearn: 0.0128943\ttest: 0.0409366\tbest: 0.0409366 (305)\ttotal: 10.3s\tremaining: 23.4s\n",
            "306:\tlearn: 0.0128596\ttest: 0.0409309\tbest: 0.0409309 (306)\ttotal: 10.4s\tremaining: 23.4s\n",
            "307:\tlearn: 0.0127919\ttest: 0.0409329\tbest: 0.0409309 (306)\ttotal: 10.4s\tremaining: 23.4s\n",
            "308:\tlearn: 0.0127375\ttest: 0.0409184\tbest: 0.0409184 (308)\ttotal: 10.4s\tremaining: 23.3s\n",
            "309:\tlearn: 0.0126904\ttest: 0.0409258\tbest: 0.0409184 (308)\ttotal: 10.5s\tremaining: 23.3s\n",
            "310:\tlearn: 0.0126330\ttest: 0.0409160\tbest: 0.0409160 (310)\ttotal: 10.5s\tremaining: 23.3s\n",
            "311:\tlearn: 0.0125851\ttest: 0.0409159\tbest: 0.0409159 (311)\ttotal: 10.5s\tremaining: 23.3s\n",
            "312:\tlearn: 0.0125511\ttest: 0.0408989\tbest: 0.0408989 (312)\ttotal: 10.6s\tremaining: 23.2s\n",
            "313:\tlearn: 0.0124612\ttest: 0.0409303\tbest: 0.0408989 (312)\ttotal: 10.6s\tremaining: 23.2s\n",
            "314:\tlearn: 0.0124093\ttest: 0.0409185\tbest: 0.0408989 (312)\ttotal: 10.7s\tremaining: 23.2s\n",
            "315:\tlearn: 0.0123685\ttest: 0.0409186\tbest: 0.0408989 (312)\ttotal: 10.7s\tremaining: 23.2s\n",
            "316:\tlearn: 0.0123162\ttest: 0.0409097\tbest: 0.0408989 (312)\ttotal: 10.7s\tremaining: 23.1s\n",
            "317:\tlearn: 0.0122427\ttest: 0.0409127\tbest: 0.0408989 (312)\ttotal: 10.8s\tremaining: 23.1s\n",
            "318:\tlearn: 0.0121749\ttest: 0.0409121\tbest: 0.0408989 (312)\ttotal: 10.8s\tremaining: 23.1s\n",
            "319:\tlearn: 0.0121395\ttest: 0.0408997\tbest: 0.0408989 (312)\ttotal: 10.8s\tremaining: 23s\n",
            "320:\tlearn: 0.0120808\ttest: 0.0408987\tbest: 0.0408987 (320)\ttotal: 10.9s\tremaining: 23s\n",
            "321:\tlearn: 0.0120457\ttest: 0.0408830\tbest: 0.0408830 (321)\ttotal: 10.9s\tremaining: 23s\n",
            "322:\tlearn: 0.0120079\ttest: 0.0408999\tbest: 0.0408830 (321)\ttotal: 11s\tremaining: 23s\n",
            "323:\tlearn: 0.0119728\ttest: 0.0409147\tbest: 0.0408830 (321)\ttotal: 11s\tremaining: 22.9s\n",
            "324:\tlearn: 0.0119314\ttest: 0.0409109\tbest: 0.0408830 (321)\ttotal: 11s\tremaining: 22.9s\n",
            "325:\tlearn: 0.0118478\ttest: 0.0409126\tbest: 0.0408830 (321)\ttotal: 11.1s\tremaining: 22.9s\n",
            "326:\tlearn: 0.0117901\ttest: 0.0409338\tbest: 0.0408830 (321)\ttotal: 11.1s\tremaining: 22.9s\n",
            "327:\tlearn: 0.0117464\ttest: 0.0409318\tbest: 0.0408830 (321)\ttotal: 11.2s\tremaining: 22.8s\n",
            "328:\tlearn: 0.0116801\ttest: 0.0409188\tbest: 0.0408830 (321)\ttotal: 11.2s\tremaining: 22.8s\n",
            "329:\tlearn: 0.0116213\ttest: 0.0409221\tbest: 0.0408830 (321)\ttotal: 11.2s\tremaining: 22.8s\n",
            "330:\tlearn: 0.0115768\ttest: 0.0409208\tbest: 0.0408830 (321)\ttotal: 11.3s\tremaining: 22.8s\n",
            "331:\tlearn: 0.0115012\ttest: 0.0409316\tbest: 0.0408830 (321)\ttotal: 11.3s\tremaining: 22.7s\n",
            "332:\tlearn: 0.0114470\ttest: 0.0409267\tbest: 0.0408830 (321)\ttotal: 11.3s\tremaining: 22.7s\n",
            "333:\tlearn: 0.0113926\ttest: 0.0409172\tbest: 0.0408830 (321)\ttotal: 11.4s\tremaining: 22.7s\n",
            "334:\tlearn: 0.0113328\ttest: 0.0409094\tbest: 0.0408830 (321)\ttotal: 11.4s\tremaining: 22.6s\n",
            "335:\tlearn: 0.0112914\ttest: 0.0409129\tbest: 0.0408830 (321)\ttotal: 11.4s\tremaining: 22.6s\n",
            "336:\tlearn: 0.0112405\ttest: 0.0408948\tbest: 0.0408830 (321)\ttotal: 11.5s\tremaining: 22.6s\n",
            "337:\tlearn: 0.0111884\ttest: 0.0409523\tbest: 0.0408830 (321)\ttotal: 11.5s\tremaining: 22.5s\n",
            "338:\tlearn: 0.0111387\ttest: 0.0409480\tbest: 0.0408830 (321)\ttotal: 11.5s\tremaining: 22.5s\n",
            "339:\tlearn: 0.0110734\ttest: 0.0409762\tbest: 0.0408830 (321)\ttotal: 11.6s\tremaining: 22.5s\n",
            "340:\tlearn: 0.0110290\ttest: 0.0409877\tbest: 0.0408830 (321)\ttotal: 11.6s\tremaining: 22.4s\n",
            "341:\tlearn: 0.0109665\ttest: 0.0410792\tbest: 0.0408830 (321)\ttotal: 11.6s\tremaining: 22.4s\n",
            "342:\tlearn: 0.0109302\ttest: 0.0410777\tbest: 0.0408830 (321)\ttotal: 11.7s\tremaining: 22.4s\n",
            "343:\tlearn: 0.0108991\ttest: 0.0410732\tbest: 0.0408830 (321)\ttotal: 11.7s\tremaining: 22.4s\n",
            "344:\tlearn: 0.0108561\ttest: 0.0410581\tbest: 0.0408830 (321)\ttotal: 11.8s\tremaining: 22.3s\n",
            "345:\tlearn: 0.0108184\ttest: 0.0410586\tbest: 0.0408830 (321)\ttotal: 11.8s\tremaining: 22.3s\n",
            "346:\tlearn: 0.0107860\ttest: 0.0410543\tbest: 0.0408830 (321)\ttotal: 11.8s\tremaining: 22.3s\n",
            "347:\tlearn: 0.0107496\ttest: 0.0410593\tbest: 0.0408830 (321)\ttotal: 11.9s\tremaining: 22.2s\n",
            "348:\tlearn: 0.0106997\ttest: 0.0410883\tbest: 0.0408830 (321)\ttotal: 11.9s\tremaining: 22.2s\n",
            "349:\tlearn: 0.0106683\ttest: 0.0410892\tbest: 0.0408830 (321)\ttotal: 11.9s\tremaining: 22.2s\n",
            "350:\tlearn: 0.0106264\ttest: 0.0411018\tbest: 0.0408830 (321)\ttotal: 12s\tremaining: 22.1s\n",
            "351:\tlearn: 0.0106020\ttest: 0.0410907\tbest: 0.0408830 (321)\ttotal: 12s\tremaining: 22.1s\n",
            "352:\tlearn: 0.0105542\ttest: 0.0410775\tbest: 0.0408830 (321)\ttotal: 12s\tremaining: 22.1s\n",
            "353:\tlearn: 0.0105352\ttest: 0.0410714\tbest: 0.0408830 (321)\ttotal: 12.1s\tremaining: 22s\n",
            "354:\tlearn: 0.0104982\ttest: 0.0410720\tbest: 0.0408830 (321)\ttotal: 12.1s\tremaining: 22s\n",
            "355:\tlearn: 0.0104706\ttest: 0.0410621\tbest: 0.0408830 (321)\ttotal: 12.2s\tremaining: 22s\n",
            "356:\tlearn: 0.0104424\ttest: 0.0410561\tbest: 0.0408830 (321)\ttotal: 12.2s\tremaining: 22s\n",
            "357:\tlearn: 0.0104129\ttest: 0.0410453\tbest: 0.0408830 (321)\ttotal: 12.2s\tremaining: 21.9s\n",
            "358:\tlearn: 0.0103751\ttest: 0.0410287\tbest: 0.0408830 (321)\ttotal: 12.3s\tremaining: 21.9s\n",
            "359:\tlearn: 0.0103555\ttest: 0.0410250\tbest: 0.0408830 (321)\ttotal: 12.3s\tremaining: 21.9s\n",
            "360:\tlearn: 0.0103265\ttest: 0.0410162\tbest: 0.0408830 (321)\ttotal: 12.3s\tremaining: 21.8s\n",
            "361:\tlearn: 0.0102994\ttest: 0.0410080\tbest: 0.0408830 (321)\ttotal: 12.4s\tremaining: 21.8s\n",
            "362:\tlearn: 0.0102844\ttest: 0.0410049\tbest: 0.0408830 (321)\ttotal: 12.4s\tremaining: 21.8s\n",
            "363:\tlearn: 0.0102484\ttest: 0.0410083\tbest: 0.0408830 (321)\ttotal: 12.5s\tremaining: 21.8s\n",
            "364:\tlearn: 0.0102091\ttest: 0.0410167\tbest: 0.0408830 (321)\ttotal: 12.5s\tremaining: 21.7s\n",
            "365:\tlearn: 0.0101859\ttest: 0.0410057\tbest: 0.0408830 (321)\ttotal: 12.5s\tremaining: 21.7s\n",
            "366:\tlearn: 0.0101564\ttest: 0.0409949\tbest: 0.0408830 (321)\ttotal: 12.6s\tremaining: 21.7s\n",
            "367:\tlearn: 0.0101209\ttest: 0.0410446\tbest: 0.0408830 (321)\ttotal: 12.6s\tremaining: 21.6s\n",
            "368:\tlearn: 0.0100707\ttest: 0.0410493\tbest: 0.0408830 (321)\ttotal: 12.6s\tremaining: 21.6s\n",
            "369:\tlearn: 0.0100508\ttest: 0.0410402\tbest: 0.0408830 (321)\ttotal: 12.7s\tremaining: 21.6s\n",
            "370:\tlearn: 0.0100387\ttest: 0.0410390\tbest: 0.0408830 (321)\ttotal: 12.7s\tremaining: 21.5s\n",
            "371:\tlearn: 0.0100013\ttest: 0.0410525\tbest: 0.0408830 (321)\ttotal: 12.7s\tremaining: 21.5s\n",
            "Stopped by overfitting detector  (50 iterations wait)\n",
            "\n",
            "bestTest = 0.04088302293\n",
            "bestIteration = 321\n",
            "\n",
            "Shrink model to first 322 iterations.\n"
          ],
          "name": "stdout"
        },
        {
          "output_type": "execute_result",
          "data": {
            "text/plain": [
              "<catboost.core.CatBoostRegressor at 0x7f41d45e2668>"
            ]
          },
          "metadata": {
            "tags": []
          },
          "execution_count": 35
        }
      ]
    },
    {
      "cell_type": "code",
      "metadata": {
        "id": "A-8wHJvhO_P5",
        "colab_type": "code",
        "colab": {}
      },
      "source": [
        "test['is_holiday'] = test['application_date'].dt.date.isin(holidays)"
      ],
      "execution_count": 0,
      "outputs": []
    },
    {
      "cell_type": "code",
      "metadata": {
        "id": "Dk4jxIF2PISx",
        "colab_type": "code",
        "colab": {}
      },
      "source": [
        "add_datepart(test, 'application_date')"
      ],
      "execution_count": 0,
      "outputs": []
    },
    {
      "cell_type": "code",
      "metadata": {
        "id": "-rtIX6rhPU_R",
        "colab_type": "code",
        "colab": {}
      },
      "source": [
        "test['application_Is_month_end'] = test['application_Is_month_end'].astype(int)\n",
        "test['application_Is_month_start'] = test['application_Is_month_start'].astype(int)\n",
        "test['application_Is_quarter_end'] = test['application_Is_quarter_end'].astype(int)\n",
        "test['application_Is_quarter_start'] = test['application_Is_quarter_start'].astype(int)\n",
        "test['application_Is_year_end'] = test['application_Is_year_end'].astype(int)\n",
        "test['application_Is_year_start'] = test['application_Is_year_start'].astype(int)"
      ],
      "execution_count": 0,
      "outputs": []
    },
    {
      "cell_type": "code",
      "metadata": {
        "id": "hfv0GTxTPvp5",
        "colab_type": "code",
        "outputId": "77b3b16c-b841-4692-a2e5-d33bb966b399",
        "colab": {
          "base_uri": "https://localhost:8080/",
          "height": 34
        }
      },
      "source": [
        "preds = model.predict(test.drop(['id'], axis=1))\n",
        "preds[0:5]"
      ],
      "execution_count": 0,
      "outputs": [
        {
          "output_type": "execute_result",
          "data": {
            "text/plain": [
              "array([7.96893779, 7.56978232, 8.23431505, 8.16041093, 8.18314118])"
            ]
          },
          "metadata": {
            "tags": []
          },
          "execution_count": 36
        }
      ]
    },
    {
      "cell_type": "code",
      "metadata": {
        "id": "GGShIBeoSlQB",
        "colab_type": "code",
        "colab": {}
      },
      "source": [
        "preds = np.expm1(preds)"
      ],
      "execution_count": 0,
      "outputs": []
    },
    {
      "cell_type": "code",
      "metadata": {
        "id": "4fn3At7gRiRP",
        "colab_type": "code",
        "colab": {}
      },
      "source": [
        "test_sub = pd.read_csv('/content/drive/My Drive/AV LTFS Finhack2/test.csv', parse_dates=['application_date'])"
      ],
      "execution_count": 0,
      "outputs": []
    },
    {
      "cell_type": "code",
      "metadata": {
        "id": "zVmZmKBmTkIA",
        "colab_type": "code",
        "outputId": "3bc2708d-6b38-498b-d3f5-cb031f73f94f",
        "colab": {
          "base_uri": "https://localhost:8080/",
          "height": 204
        }
      },
      "source": [
        "sub = pd.DataFrame()\n",
        "sub['id'] = test_sub['id']\n",
        "sub['application_date'] = test_sub['application_date']\n",
        "sub['segment'] = test_sub['segment']\n",
        "sub['case_count'] = preds\n",
        "sub.head()"
      ],
      "execution_count": 0,
      "outputs": [
        {
          "output_type": "execute_result",
          "data": {
            "text/html": [
              "<div>\n",
              "<style scoped>\n",
              "    .dataframe tbody tr th:only-of-type {\n",
              "        vertical-align: middle;\n",
              "    }\n",
              "\n",
              "    .dataframe tbody tr th {\n",
              "        vertical-align: top;\n",
              "    }\n",
              "\n",
              "    .dataframe thead th {\n",
              "        text-align: right;\n",
              "    }\n",
              "</style>\n",
              "<table border=\"1\" class=\"dataframe\">\n",
              "  <thead>\n",
              "    <tr style=\"text-align: right;\">\n",
              "      <th></th>\n",
              "      <th>id</th>\n",
              "      <th>application_date</th>\n",
              "      <th>segment</th>\n",
              "      <th>case_count</th>\n",
              "    </tr>\n",
              "  </thead>\n",
              "  <tbody>\n",
              "    <tr>\n",
              "      <th>0</th>\n",
              "      <td>1</td>\n",
              "      <td>2019-07-06</td>\n",
              "      <td>1</td>\n",
              "      <td>2888.786161</td>\n",
              "    </tr>\n",
              "    <tr>\n",
              "      <th>1</th>\n",
              "      <td>2</td>\n",
              "      <td>2019-07-07</td>\n",
              "      <td>1</td>\n",
              "      <td>1937.718206</td>\n",
              "    </tr>\n",
              "    <tr>\n",
              "      <th>2</th>\n",
              "      <td>3</td>\n",
              "      <td>2019-07-08</td>\n",
              "      <td>1</td>\n",
              "      <td>3767.058096</td>\n",
              "    </tr>\n",
              "    <tr>\n",
              "      <th>3</th>\n",
              "      <td>4</td>\n",
              "      <td>2019-07-09</td>\n",
              "      <td>1</td>\n",
              "      <td>3498.624425</td>\n",
              "    </tr>\n",
              "    <tr>\n",
              "      <th>4</th>\n",
              "      <td>5</td>\n",
              "      <td>2019-07-10</td>\n",
              "      <td>1</td>\n",
              "      <td>3579.082716</td>\n",
              "    </tr>\n",
              "  </tbody>\n",
              "</table>\n",
              "</div>"
            ],
            "text/plain": [
              "   id application_date  segment   case_count\n",
              "0   1       2019-07-06        1  2888.786161\n",
              "1   2       2019-07-07        1  1937.718206\n",
              "2   3       2019-07-08        1  3767.058096\n",
              "3   4       2019-07-09        1  3498.624425\n",
              "4   5       2019-07-10        1  3579.082716"
            ]
          },
          "metadata": {
            "tags": []
          },
          "execution_count": 38
        }
      ]
    },
    {
      "cell_type": "code",
      "metadata": {
        "id": "gval2il7TnX4",
        "colab_type": "code",
        "colab": {}
      },
      "source": [
        "sub.to_csv('catboost_depth12.csv', index=False, header=True)"
      ],
      "execution_count": 0,
      "outputs": []
    }
  ]
}